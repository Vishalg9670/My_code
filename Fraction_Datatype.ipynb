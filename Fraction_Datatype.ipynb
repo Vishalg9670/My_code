{
 "cells": [
  {
   "cell_type": "markdown",
   "id": "9f1b520d-8aef-42bb-85ad-5f4a7feeae83",
   "metadata": {},
   "source": [
    "**Using OOPs I am Creating Fraction as Datatypes**\n",
    "\n",
    "     "
   ]
  },
  {
   "cell_type": "code",
   "execution_count": 4,
   "id": "a70e8149-1b74-4b70-bdf3-ac91023aca54",
   "metadata": {},
   "outputs": [],
   "source": [
    "# Creating a class named Fraction\n",
    "class Fraction:\n",
    "    # Creating a Parameterized Constructor\n",
    "    def __init__(self, x, y):\n",
    "        self.num = x        # Creating numerator\n",
    "        self.den = y        # Creating denominator\n",
    "    \n",
    "    # Creating Function for Display number in Fraction\n",
    "    def __str__(self):\n",
    "        return '{}/{}'.format(self.num, self.den) \n",
    "    \n",
    "    # Addition of two fractions\n",
    "    def __add__(self, other):\n",
    "        new_num = self.num * other.den + other.num * self.den\n",
    "        new_den = self.den * other.den\n",
    "        return '{}/{}'.format(new_num, new_den) \n",
    "    \n",
    "    # Subtraction of two fractions\n",
    "    def __sub__(self, other):\n",
    "        new_num = self.num * other.den - other.num * self.den\n",
    "        new_den = self.den * other.den\n",
    "        return '{}/{}'.format(new_num, new_den) \n",
    "        \n",
    "    \n",
    "    # Multiplication of two fractions\n",
    "    def __mul__(self, other):\n",
    "        new_num = self.num * other.num\n",
    "        new_den = self.den * other.den  # Fixed typo 'deen'\n",
    "        return '{}/{}'.format(new_num, new_den)\n",
    "    def __truediv__(self,other):\n",
    "        new_num = self.num*other.den\n",
    "        new_den = self.den*other.num\n",
    "\n",
    "        return '{}/{}'.format(new_num,new_den)\n",
    "\n",
    "    def convert_to_decimal(self):\n",
    "        return self.num/self.den\n",
    "\n",
    "        "
   ]
  },
  {
   "cell_type": "code",
   "execution_count": 5,
   "id": "c44a6585-716c-48b2-bbae-2fee183dd4f6",
   "metadata": {},
   "outputs": [],
   "source": [
    "fr1=Fraction(3,4)\n",
    "fr2=Fraction(1,4)"
   ]
  },
  {
   "cell_type": "code",
   "execution_count": 6,
   "id": "58033764-fbe2-4840-a924-983b3fc96d5f",
   "metadata": {},
   "outputs": [
    {
     "name": "stdout",
     "output_type": "stream",
     "text": [
      "16/16\n",
      "8/16\n",
      "3/16\n",
      "12/4\n",
      "3/4 1/4\n"
     ]
    }
   ],
   "source": [
    "print(fr1 + fr2)\n",
    "print(fr1 - fr2)\n",
    "print(fr1 * fr2)\n",
    "print(fr1 / fr2)\n",
    "print(fr1 ,fr2)"
   ]
  },
  {
   "cell_type": "code",
   "execution_count": 31,
   "id": "ff610505-3a1c-484e-9f9a-b68fb25b8e37",
   "metadata": {},
   "outputs": [
    {
     "data": {
      "text/plain": [
       "0.25"
      ]
     },
     "execution_count": 31,
     "metadata": {},
     "output_type": "execute_result"
    }
   ],
   "source": [
    "fr2.convert_to_decimal()"
   ]
  },
  {
   "cell_type": "code",
   "execution_count": null,
   "id": "baa0c4c0-f3c0-48d1-a884-8f2f910a0af9",
   "metadata": {},
   "outputs": [],
   "source": []
  }
 ],
 "metadata": {
  "kernelspec": {
   "display_name": "Python 3 (ipykernel)",
   "language": "python",
   "name": "python3"
  },
  "language_info": {
   "codemirror_mode": {
    "name": "ipython",
    "version": 3
   },
   "file_extension": ".py",
   "mimetype": "text/x-python",
   "name": "python",
   "nbconvert_exporter": "python",
   "pygments_lexer": "ipython3",
   "version": "3.11.7"
  }
 },
 "nbformat": 4,
 "nbformat_minor": 5
}
